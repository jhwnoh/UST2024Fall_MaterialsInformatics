{
  "nbformat": 4,
  "nbformat_minor": 0,
  "metadata": {
    "colab": {
      "provenance": [],
      "gpuType": "T4",
      "authorship_tag": "ABX9TyMrd8igNa/j513yNFkdKg50",
      "include_colab_link": true
    },
    "kernelspec": {
      "name": "python3",
      "display_name": "Python 3"
    },
    "language_info": {
      "name": "python"
    },
    "accelerator": "GPU"
  },
  "cells": [
    {
      "cell_type": "markdown",
      "metadata": {
        "id": "view-in-github",
        "colab_type": "text"
      },
      "source": [
        "<a href=\"https://colab.research.google.com/github/jhwnoh/UST2024Fall_MaterialsInformatics/blob/main/2024Fall_TestBasedGM1.ipynb\" target=\"_parent\"><img src=\"https://colab.research.google.com/assets/colab-badge.svg\" alt=\"Open In Colab\"/></a>"
      ]
    },
    {
      "cell_type": "code",
      "execution_count": 2,
      "metadata": {
        "colab": {
          "base_uri": "https://localhost:8080/"
        },
        "id": "Y2gSCNnAOEFB",
        "outputId": "2deeb2af-3c9c-461e-8422-96dcf083650c"
      },
      "outputs": [
        {
          "output_type": "stream",
          "name": "stdout",
          "text": [
            "Collecting rdkit\n",
            "  Downloading rdkit-2024.3.5-cp310-cp310-manylinux_2_28_x86_64.whl.metadata (3.9 kB)\n",
            "Requirement already satisfied: numpy in /usr/local/lib/python3.10/dist-packages (from rdkit) (1.26.4)\n",
            "Requirement already satisfied: Pillow in /usr/local/lib/python3.10/dist-packages (from rdkit) (10.4.0)\n",
            "Downloading rdkit-2024.3.5-cp310-cp310-manylinux_2_28_x86_64.whl (33.1 MB)\n",
            "\u001b[2K   \u001b[90m━━━━━━━━━━━━━━━━━━━━━━━━━━━━━━━━━━━━━━━━\u001b[0m \u001b[32m33.1/33.1 MB\u001b[0m \u001b[31m22.1 MB/s\u001b[0m eta \u001b[36m0:00:00\u001b[0m\n",
            "\u001b[?25hInstalling collected packages: rdkit\n",
            "Successfully installed rdkit-2024.3.5\n"
          ]
        }
      ],
      "source": [
        "!pip install rdkit"
      ]
    },
    {
      "cell_type": "code",
      "source": [
        "import rdkit\n",
        "from rdkit import RDLogger\n",
        "RDLogger.DisableLog('rdApp.*')\n",
        "from rdkit.Chem import MolFromSmiles,MolToSmiles\n",
        "from tqdm import tqdm\n",
        "import numpy as np\n",
        "\n",
        "import torch\n",
        "import torch.nn as nn\n",
        "import torch.nn.functional as F\n",
        "from torch.utils.data import Dataset,DataLoader\n",
        "\n",
        "class MolData(Dataset):\n",
        "    def __init__(self,smis,toks):\n",
        "        self.smis = smis\n",
        "        self.toks = toks + ['<','>'] #'<'; start of sequence, '>'; end of sequence\n",
        "        self.Ntok = len(toks)\n",
        "        self.Nmax = 60\n",
        "\n",
        "    def __len__(self):\n",
        "        return len(self.smis)\n",
        "\n",
        "    def __getitem__(self,idx):\n",
        "        smi = '<'+self.smis[idx]+'>'\n",
        "        smi += '>'*(self.Nmax-len(smi))\n",
        "\n",
        "        x_all = np.array([self.toks.index(s) for s in smi]).flatten()\n",
        "\n",
        "        x = x_all[:-1] #input\n",
        "        y = x_all[1:] #output\n",
        "\n",
        "        x = torch.LongTensor(x)\n",
        "        y = torch.LongTensor(y)\n",
        "        return x,y\n",
        "\n",
        "class CharRNN(nn.Module):\n",
        "    def __init__(self,dim_x0,dim_x1,dim_h,n_layer,d_ratio):\n",
        "        super(CharRNN,self).__init__()\n",
        "        self.n_layer = n_layer\n",
        "        self.emb_layer = nn.Embedding(dim_x0,dim_x1)\n",
        "\n",
        "        self.rnn = nn.GRU(dim_x1,dim_h,\n",
        "                          num_layers=n_layer,\n",
        "                          dropout = d_ratio,\n",
        "                          batch_first = True)\n",
        "\n",
        "        self.out = nn.Sequential(\n",
        "                        nn.Linear(dim_h,dim_h),\n",
        "                        nn.ReLU(),\n",
        "                        nn.Linear(dim_h,dim_x0))\n",
        "\n",
        "    def forward(self,x_in,h0=None):\n",
        "        x0 = self.emb_layer(x_in)\n",
        "        x1,h1 = self.rnn(x0,h0)\n",
        "        x2 = self.out(x1)\n",
        "        return x2,h1"
      ],
      "metadata": {
        "id": "1gxjHKXpPmhH"
      },
      "execution_count": 11,
      "outputs": []
    },
    {
      "cell_type": "code",
      "source": [
        "def Sampling(sampler,n_sample,max_len,tok_lib):\n",
        "    sampler.eval()\n",
        "    with torch.no_grad():\n",
        "        inits = torch.LongTensor([26]*n_sample).cuda()\n",
        "        loader = DataLoader(inits,batch_size=50)\n",
        "\n",
        "        Sampled = []\n",
        "        for inp in tqdm(loader):\n",
        "            x_in = inp.reshape(-1,1)\n",
        "\n",
        "            x_hat = []\n",
        "            h = None\n",
        "            for seq_iter in range(max_len):\n",
        "                out,h = sampler(x_in,h)\n",
        "                prob = F.softmax(out,dim=-1).squeeze(1)\n",
        "                x_in = torch.multinomial(prob,1)\n",
        "\n",
        "                x_hat.append(x_in.cpu().detach().numpy())\n",
        "\n",
        "            x_hat = np.hstack(x_hat)\n",
        "            Sampled.append(x_hat)\n",
        "\n",
        "    Sampled = np.vstack(Sampled)\n",
        "\n",
        "    Mols = []\n",
        "    for s in Sampled:\n",
        "        n_end = np.sum(s==27)\n",
        "\n",
        "        if n_end == 0:\n",
        "            continue\n",
        "\n",
        "        n = np.min(np.where(s==27)[0])\n",
        "        m = ''.join(tok_lib[s[:n]].tolist())\n",
        "        Mols.append(m)\n",
        "\n",
        "    Vals = []\n",
        "    for smi in Mols:\n",
        "        mol = MolFromSmiles(smi)\n",
        "        if not mol is None:\n",
        "            Vals.append(MolToSmiles(mol))\n",
        "\n",
        "    Uni = list(set(Vals))\n",
        "\n",
        "    return Vals,len(Vals),len(Uni)"
      ],
      "metadata": {
        "id": "MJfDzwkxP4zE"
      },
      "execution_count": 12,
      "outputs": []
    },
    {
      "cell_type": "code",
      "source": [
        "import numpy as np\n",
        "import pandas as pd\n",
        "import os\n",
        "\n",
        "import pickle\n",
        "\n",
        "from tqdm import tqdm\n",
        "\n",
        "import torch\n",
        "import torch.nn as nn\n",
        "import torch.optim as optim\n",
        "from torch.nn.utils import clip_grad_norm_\n",
        "import torch.nn.functional as F\n",
        "from torch.utils.data import Dataset,DataLoader\n",
        "\n",
        "df = pd.read_csv('https://media.githubusercontent.com/media/molecularsets/moses/master/data/train.csv') #본인이 가진 파일 경로로 수정\n",
        "smi_ = list(df.SMILES)\n",
        "\n",
        "toks = list(set(''.join(smi_)))\n",
        "\n",
        "np.random.seed(1)\n",
        "np.random.shuffle(smi_)\n",
        "\n",
        "n_train = 1000000\n",
        "n_val = 100000\n",
        "\n",
        "smi_train = smi_[:n_train]\n",
        "smi_val = smi_[n_train:n_train+n_val]\n",
        "\n",
        "batch_size = 64\n",
        "\n",
        "train_data = MolData(smi_train,toks)\n",
        "tok_lib = np.array(train_data.toks) # For sampling\n",
        "train_loader = DataLoader(train_data,batch_size=batch_size,shuffle=True)\n",
        "\n",
        "model = CharRNN(28,128,480,3,0.2).cuda()\n",
        "\n",
        "lr = 1e-4\n",
        "ce_loss = nn.CrossEntropyLoss()\n",
        "optimizer = optim.Adam(model.parameters(),lr=lr)\n",
        "\n",
        "num_epoch = 20\n",
        "max_norm = 5\n",
        "num_iter = 0\n",
        "\n",
        "model.train()\n",
        "for ep in range(num_epoch):\n",
        "    for inp in tqdm(train_loader):\n",
        "        x_in = inp[0].cuda()\n",
        "        tgt = inp[1].cuda()\n",
        "\n",
        "        x_out,_ = model(x_in)\n",
        "\n",
        "        loss = ce_loss(x_out.reshape(-1,28),tgt.view(-1))\n",
        "\n",
        "        optimizer.zero_grad()\n",
        "        loss.backward()\n",
        "        clip_grad_norm_(model.parameters(), max_norm)\n",
        "        optimizer.step()\n",
        "\n",
        "        num_iter += 1\n",
        "\n",
        "        if num_iter % 1000 == 0:\n",
        "            mols,val,uniq = Sampling(model,200,100,tok_lib) #200: 샘플링 시도 횟수, 100: 최대 SMILES 길이\n",
        "            print(ep,mols[0],num_iter,val,uniq)\n",
        "\n",
        "            model.train()"
      ],
      "metadata": {
        "colab": {
          "base_uri": "https://localhost:8080/",
          "height": 654
        },
        "id": "Q98ci5dQP_iN",
        "outputId": "f6ba7b6f-9328-48c1-8820-dd899c139e7e"
      },
      "execution_count": 14,
      "outputs": [
        {
          "output_type": "stream",
          "name": "stderr",
          "text": [
            "  6%|▋         | 999/15625 [00:40<09:52, 24.70it/s]\n",
            "  0%|          | 0/4 [00:00<?, ?it/s]\u001b[A\n",
            " 25%|██▌       | 1/4 [00:00<00:00,  9.19it/s]\u001b[A\n",
            " 50%|█████     | 2/4 [00:00<00:00,  8.63it/s]\u001b[A\n",
            " 75%|███████▌  | 3/4 [00:00<00:00,  8.76it/s]\u001b[A\n",
            "100%|██████████| 4/4 [00:00<00:00,  8.72it/s]\n",
            "  6%|▋         | 1005/15625 [00:41<18:39, 13.05it/s]"
          ]
        },
        {
          "output_type": "stream",
          "name": "stdout",
          "text": [
            "0 COc1cn(C)c(OC)ccc2[nH]c-2ncn1 1000 37 37\n"
          ]
        },
        {
          "output_type": "stream",
          "name": "stderr",
          "text": [
            " 13%|█▎        | 1998/15625 [01:21<09:11, 24.73it/s]\n",
            "  0%|          | 0/4 [00:00<?, ?it/s]\u001b[A\n",
            " 50%|█████     | 2/4 [00:00<00:00, 14.64it/s]\u001b[A\n",
            "100%|██████████| 4/4 [00:00<00:00, 13.83it/s]\n",
            " 13%|█▎        | 2005/15625 [01:22<13:41, 16.58it/s]"
          ]
        },
        {
          "output_type": "stream",
          "name": "stdout",
          "text": [
            "0 Cc1ccc(CNC2CCOCN(C(C)(C)C)C2)c(Cl)c1 2000 64 64\n"
          ]
        },
        {
          "output_type": "stream",
          "name": "stderr",
          "text": [
            " 19%|█▉        | 2998/15625 [02:02<08:32, 24.65it/s]\n",
            "  0%|          | 0/4 [00:00<?, ?it/s]\u001b[A\n",
            " 50%|█████     | 2/4 [00:00<00:00, 13.63it/s]\u001b[A\n",
            "100%|██████████| 4/4 [00:00<00:00, 12.15it/s]\n",
            " 19%|█▉        | 3004/15625 [02:03<13:50, 15.20it/s]"
          ]
        },
        {
          "output_type": "stream",
          "name": "stdout",
          "text": [
            "0 CC(=O)NC1CCC(C(=O)NC(C)C)(C(=O)NC2CC2)C1O 3000 84 84\n"
          ]
        },
        {
          "output_type": "stream",
          "name": "stderr",
          "text": [
            " 26%|██▌       | 3997/15625 [02:43<07:51, 24.69it/s]\n",
            "  0%|          | 0/4 [00:00<?, ?it/s]\u001b[A\n",
            " 50%|█████     | 2/4 [00:00<00:00, 13.83it/s]\u001b[A\n",
            "100%|██████████| 4/4 [00:00<00:00, 12.60it/s]\n",
            " 26%|██▌       | 4004/15625 [02:43<12:10, 15.92it/s]"
          ]
        },
        {
          "output_type": "stream",
          "name": "stdout",
          "text": [
            "0 Cc1nnc(NC(=O)c2cccc(N)c2)[nH]c1=O 4000 126 126\n"
          ]
        },
        {
          "output_type": "stream",
          "name": "stderr",
          "text": [
            " 29%|██▉       | 4579/15625 [03:07<07:31, 24.47it/s]\n"
          ]
        },
        {
          "output_type": "error",
          "ename": "KeyboardInterrupt",
          "evalue": "",
          "traceback": [
            "\u001b[0;31m---------------------------------------------------------------------------\u001b[0m",
            "\u001b[0;31mKeyboardInterrupt\u001b[0m                         Traceback (most recent call last)",
            "\u001b[0;32m<ipython-input-14-6d8165a51e69>\u001b[0m in \u001b[0;36m<cell line: 55>\u001b[0;34m()\u001b[0m\n\u001b[1;32m     55\u001b[0m \u001b[0;32mfor\u001b[0m \u001b[0mep\u001b[0m \u001b[0;32min\u001b[0m \u001b[0mrange\u001b[0m\u001b[0;34m(\u001b[0m\u001b[0mnum_epoch\u001b[0m\u001b[0;34m)\u001b[0m\u001b[0;34m:\u001b[0m\u001b[0;34m\u001b[0m\u001b[0;34m\u001b[0m\u001b[0m\n\u001b[1;32m     56\u001b[0m     \u001b[0;32mfor\u001b[0m \u001b[0minp\u001b[0m \u001b[0;32min\u001b[0m \u001b[0mtqdm\u001b[0m\u001b[0;34m(\u001b[0m\u001b[0mtrain_loader\u001b[0m\u001b[0;34m)\u001b[0m\u001b[0;34m:\u001b[0m\u001b[0;34m\u001b[0m\u001b[0;34m\u001b[0m\u001b[0m\n\u001b[0;32m---> 57\u001b[0;31m         \u001b[0mx_in\u001b[0m \u001b[0;34m=\u001b[0m \u001b[0minp\u001b[0m\u001b[0;34m[\u001b[0m\u001b[0;36m0\u001b[0m\u001b[0;34m]\u001b[0m\u001b[0;34m.\u001b[0m\u001b[0mcuda\u001b[0m\u001b[0;34m(\u001b[0m\u001b[0;34m)\u001b[0m\u001b[0;34m\u001b[0m\u001b[0;34m\u001b[0m\u001b[0m\n\u001b[0m\u001b[1;32m     58\u001b[0m         \u001b[0mtgt\u001b[0m \u001b[0;34m=\u001b[0m \u001b[0minp\u001b[0m\u001b[0;34m[\u001b[0m\u001b[0;36m1\u001b[0m\u001b[0;34m]\u001b[0m\u001b[0;34m.\u001b[0m\u001b[0mcuda\u001b[0m\u001b[0;34m(\u001b[0m\u001b[0;34m)\u001b[0m\u001b[0;34m\u001b[0m\u001b[0;34m\u001b[0m\u001b[0m\n\u001b[1;32m     59\u001b[0m \u001b[0;34m\u001b[0m\u001b[0m\n",
            "\u001b[0;31mKeyboardInterrupt\u001b[0m: "
          ]
        }
      ]
    },
    {
      "cell_type": "code",
      "source": [
        "mols,val,uniq = Sampling(model,1000,100,tok_lib) #1000: 샘플링 시도 횟수, 100: 최대 SMILES 길이"
      ],
      "metadata": {
        "colab": {
          "base_uri": "https://localhost:8080/"
        },
        "id": "f8-PDx1pQLbb",
        "outputId": "08a7c891-1dcc-4636-aee3-4d368dc52fcc"
      },
      "execution_count": 15,
      "outputs": [
        {
          "output_type": "stream",
          "name": "stderr",
          "text": [
            "100%|██████████| 20/20 [00:01<00:00, 10.66it/s]\n"
          ]
        }
      ]
    },
    {
      "cell_type": "code",
      "source": [
        "MolFromSmiles(mols[0])"
      ],
      "metadata": {
        "colab": {
          "base_uri": "https://localhost:8080/",
          "height": 167
        },
        "id": "YsP3Ztq9YSUX",
        "outputId": "260063ed-d060-4263-ecce-dd6aa45d41b3"
      },
      "execution_count": 16,
      "outputs": [
        {
          "output_type": "execute_result",
          "data": {
            "text/plain": [
              "<rdkit.Chem.rdchem.Mol at 0x7e5ed053a5e0>"
            ],
            "image/png": "[encoded data removed]"
          },
          "metadata": {},
          "execution_count": 16
        }
      ]
    },
    {
      "cell_type": "code",
      "source": [
        "mol_size = [len(smi) for smi in mols]\n",
        "import matplotlib.pyplot as plt\n",
        "plt.hist(mol_size)"
      ],
      "metadata": {
        "colab": {
          "base_uri": "https://localhost:8080/",
          "height": 486
        },
        "id": "chUvL9Y3YUY4",
        "outputId": "0c13bc06-9645-46ef-d7cb-a0b9eace6bc4"
      },
      "execution_count": 17,
      "outputs": [
        {
          "output_type": "execute_result",
          "data": {
            "text/plain": [
              "(array([  5.,   9.,  33., 102., 141., 163., 155.,  44.,  20.,   6.]),\n",
              " array([18. , 21.3, 24.6, 27.9, 31.2, 34.5, 37.8, 41.1, 44.4, 47.7, 51. ]),\n",
              " <BarContainer object of 10 artists>)"
            ]
          },
          "metadata": {},
          "execution_count": 17
        },
        {
          "output_type": "display_data",
          "data": {
            "text/plain": [
              "<Figure size 640x480 with 1 Axes>"
            ],
            "image/png": "[encoded data removed]"
          },
          "metadata": {}
        }
      ]
    },
    {
      "cell_type": "code",
      "source": [],
      "metadata": {
        "id": "lzE4WeKMYVzB"
      },
      "execution_count": null,
      "outputs": []
    }
  ]
}