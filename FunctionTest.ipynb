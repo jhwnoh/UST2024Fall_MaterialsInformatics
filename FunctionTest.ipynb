{
  "nbformat": 4,
  "nbformat_minor": 0,
  "metadata": {
    "colab": {
      "provenance": [],
      "authorship_tag": "ABX9TyMOAOTUf8xLNJR50KONhTGt",
      "include_colab_link": true
    },
    "kernelspec": {
      "name": "python3",
      "display_name": "Python 3"
    },
    "language_info": {
      "name": "python"
    }
  },
  "cells": [
    {
      "cell_type": "markdown",
      "metadata": {
        "id": "view-in-github",
        "colab_type": "text"
      },
      "source": [
        "<a href=\"https://colab.research.google.com/github/jhwnoh/UST2024Fall_MaterialsInformatics/blob/main/FunctionTest.ipynb\" target=\"_parent\"><img src=\"https://colab.research.google.com/assets/colab-badge.svg\" alt=\"Open In Colab\"/></a>"
      ]
    },
    {
      "cell_type": "code",
      "execution_count": 1,
      "metadata": {
        "id": "W3j1gYOV-7qq"
      },
      "outputs": [],
      "source": [
        "import torch\n",
        "import torch.nn as nn"
      ]
    },
    {
      "cell_type": "code",
      "source": [
        "class MyLinear1(nn.Module):\n",
        "    def __init__(self, in_features, out_features):\n",
        "        super(MyLinear1, self).__init__()\n",
        "        self.w = nn.Parameter(torch.randn(in_features, out_features))\n",
        "        self.b = nn.Parameter(torch.randn(out_features))\n",
        "\n",
        "    def forward(self, x):\n",
        "        x = x.matmul(self.w)\n",
        "        return x + self.b.expand_as(x)\n",
        "\n",
        "class MyLinear2(nn.Module):\n",
        "    def __init__(self, in_features, out_features):\n",
        "        super(MyLinear2, self).__init__()\n",
        "        self.linear = nn.Linear(in_features, out_features)\n",
        "\n",
        "    def forward(self, x):\n",
        "        return self.linear(x)"
      ],
      "metadata": {
        "id": "jV1IWr9A-_un"
      },
      "execution_count": 3,
      "outputs": []
    },
    {
      "cell_type": "code",
      "source": [
        "linear1 = MyLinear1(4,3)\n",
        "linear2 = MyLinear2(4,3)\n",
        "\n",
        "x = torch.Tensor(torch.randn(5,4))\n",
        "y1 = linear1(x)\n",
        "y2 = linear2(x)"
      ],
      "metadata": {
        "id": "2ln6UhbE_V06"
      },
      "execution_count": 4,
      "outputs": []
    },
    {
      "cell_type": "code",
      "source": [
        "y1"
      ],
      "metadata": {
        "colab": {
          "base_uri": "https://localhost:8080/"
        },
        "id": "I7ILgN3cA56o",
        "outputId": "dce11d08-9d1b-4620-8856-048552c0bfc2"
      },
      "execution_count": 5,
      "outputs": [
        {
          "output_type": "execute_result",
          "data": {
            "text/plain": [
              "tensor([[-1.0951,  2.4588,  0.9731],\n",
              "        [-1.3289,  0.3796,  0.7099],\n",
              "        [-2.0057,  1.3808, -1.4127],\n",
              "        [-0.6573,  2.2988, -1.2654],\n",
              "        [-1.4962,  2.5977,  1.2428]], grad_fn=<AddBackward0>)"
            ]
          },
          "metadata": {},
          "execution_count": 5
        }
      ]
    },
    {
      "cell_type": "code",
      "source": [
        "y2"
      ],
      "metadata": {
        "colab": {
          "base_uri": "https://localhost:8080/"
        },
        "id": "ccEE2hZmA6l1",
        "outputId": "8d500fd9-d047-4180-c9a7-ace7489c7236"
      },
      "execution_count": 6,
      "outputs": [
        {
          "output_type": "execute_result",
          "data": {
            "text/plain": [
              "tensor([[ 0.4019,  0.2534, -0.4316],\n",
              "        [ 0.1335, -0.3617, -0.7044],\n",
              "        [-0.6328,  0.7078, -1.1011],\n",
              "        [ 0.1638, -0.4287,  0.0909],\n",
              "        [ 0.5563,  0.2730, -0.6707]], grad_fn=<AddmmBackward0>)"
            ]
          },
          "metadata": {},
          "execution_count": 6
        }
      ]
    },
    {
      "cell_type": "code",
      "source": [
        "input_size = (64,3,32,32)\n",
        "conv = nn.Conv2d(in_channels=3,out_channels=12,kernel_size=3,stride=1,padding=1)\n",
        "x = torch.randn(input_size)\n",
        "y = conv(x)\n",
        "\n",
        "y.size()"
      ],
      "metadata": {
        "colab": {
          "base_uri": "https://localhost:8080/"
        },
        "id": "W2oiMLXpA7Hu",
        "outputId": "e13f887e-36ba-40af-bc34-7aa5b272179e"
      },
      "execution_count": 8,
      "outputs": [
        {
          "output_type": "execute_result",
          "data": {
            "text/plain": [
              "torch.Size([64, 12, 32, 32])"
            ]
          },
          "metadata": {},
          "execution_count": 8
        }
      ]
    },
    {
      "cell_type": "code",
      "source": [
        "input_size = (64,3,32)\n",
        "conv = nn.Conv1d(in_channels=3,out_channels=12,kernel_size=3,stride=1,padding=1)\n",
        "x = torch.randn(input_size)\n",
        "y = conv(x)\n",
        "\n",
        "y.size()"
      ],
      "metadata": {
        "colab": {
          "base_uri": "https://localhost:8080/"
        },
        "id": "Zng3q_lWFGXo",
        "outputId": "0b084ce1-1f98-448d-e31f-3181b5f36e6e"
      },
      "execution_count": 9,
      "outputs": [
        {
          "output_type": "execute_result",
          "data": {
            "text/plain": [
              "torch.Size([64, 12, 32])"
            ]
          },
          "metadata": {},
          "execution_count": 9
        }
      ]
    },
    {
      "cell_type": "code",
      "source": [
        "input_size = (64,3,32,32,32)\n",
        "conv = nn.Conv3d(in_channels=3,out_channels=12,kernel_size=3,stride=1,padding=1)\n",
        "x = torch.randn(input_size)\n",
        "y = conv(x)\n",
        "\n",
        "y.size()"
      ],
      "metadata": {
        "colab": {
          "base_uri": "https://localhost:8080/"
        },
        "id": "SMbCLBU5GYdg",
        "outputId": "f2ea170d-1cda-45e4-9f4c-686e03b54f8d"
      },
      "execution_count": 10,
      "outputs": [
        {
          "output_type": "execute_result",
          "data": {
            "text/plain": [
              "torch.Size([64, 12, 32, 32, 32])"
            ]
          },
          "metadata": {},
          "execution_count": 10
        }
      ]
    },
    {
      "cell_type": "code",
      "source": [
        "import torch\n",
        "import torch.nn as nn\n",
        "\n",
        "# Simple RNN model\n",
        "class SimpleRNN(nn.Module):\n",
        "    def __init__(self, input_size, hidden_size, output_size):\n",
        "        super(SimpleRNN, self).__init__()\n",
        "        self.hidden_size = hidden_size\n",
        "        self.rnn = nn.RNN(input_size, hidden_size, batch_first=True)\n",
        "        self.fc = nn.Linear(hidden_size, output_size)\n",
        "\n",
        "    def forward(self, x):\n",
        "        # Initial hidden state\n",
        "        h0 = torch.zeros(1, x.size(0), self.hidden_size).to(x.device)\n",
        "\n",
        "        # Forward propagate RNN\n",
        "        out, _ = self.rnn(x, h0)\n",
        "\n",
        "        # Pass the output of the last time step to the classifier\n",
        "        out = self.fc(out[:, -1, :])\n",
        "        return out\n",
        "\n",
        "# Model parameters\n",
        "input_size = 10\n",
        "hidden_size = 20\n",
        "output_size = 2\n",
        "batch_size = 5\n",
        "seq_length = 30\n",
        "\n",
        "# Initialize the model\n",
        "model = SimpleRNN(input_size, hidden_size, output_size)\n",
        "\n",
        "# Create dummy data\n",
        "input_data = torch.randn(batch_size, seq_length, input_size)\n",
        "\n",
        "# Forward pass\n",
        "output = model(input_data)\n",
        "\n",
        "print(\"Input shape:\", input_data.shape)\n",
        "print(\"Output shape:\", output.shape)"
      ],
      "metadata": {
        "colab": {
          "base_uri": "https://localhost:8080/"
        },
        "id": "po0LyTG9PM4K",
        "outputId": "e2268f35-7d82-4239-911c-2295f60e53bf"
      },
      "execution_count": 15,
      "outputs": [
        {
          "output_type": "stream",
          "name": "stdout",
          "text": [
            "Input shape: torch.Size([5, 30, 10])\n",
            "Output shape: torch.Size([5, 2])\n"
          ]
        }
      ]
    },
    {
      "cell_type": "code",
      "source": [
        "# Simple LSTM model\n",
        "class SimpleLSTM(nn.Module):\n",
        "    def __init__(self, input_size, hidden_size, output_size):\n",
        "        super(SimpleLSTM, self).__init__()\n",
        "        self.hidden_size = hidden_size\n",
        "        self.lstm = nn.LSTM(input_size, hidden_size, batch_first=True)\n",
        "        self.fc = nn.Linear(hidden_size, output_size)\n",
        "\n",
        "    def forward(self, x):\n",
        "        # Initial hidden and cell states\n",
        "        h0 = torch.zeros(1, x.size(0), self.hidden_size).to(x.device)\n",
        "        c0 = torch.zeros(1, x.size(0), self.hidden_size).to(x.device)\n",
        "\n",
        "        # Forward propagate LSTM\n",
        "        out, _ = self.lstm(x, (h0, c0))\n",
        "\n",
        "        # Pass the output of the last time step to the classifier\n",
        "        out = self.fc(out[:, -1, :])\n",
        "        return out\n",
        "\n",
        "# Initialize the LSTM model and create dummy data\n",
        "lstm_model = SimpleLSTM(input_size, hidden_size, output_size)\n",
        "lstm_input_data = torch.randn(batch_size, seq_length, input_size)\n",
        "\n",
        "# Forward pass through LSTM\n",
        "lstm_output = lstm_model(lstm_input_data)\n",
        "\n",
        "print(\"LSTM Input shape:\", lstm_input_data.shape)\n",
        "print(\"LSTM Output shape:\", lstm_output.shape)\n",
        "\n",
        "\n",
        "# Simple GRU model\n",
        "class SimpleGRU(nn.Module):\n",
        "    def __init__(self, input_size, hidden_size, output_size):\n",
        "        super(SimpleGRU, self).__init__()\n",
        "        self.hidden_size = hidden_size\n",
        "        self.gru = nn.GRU(input_size, hidden_size, batch_first=True)\n",
        "        self.fc = nn.Linear(hidden_size, output_size)\n",
        "\n",
        "    def forward(self, x):\n",
        "        # Initial hidden state\n",
        "        h0 = torch.zeros(1, x.size(0), self.hidden_size).to(x.device)\n",
        "\n",
        "        # Forward propagate GRU\n",
        "        out, _ = self.gru(x, h0)\n",
        "\n",
        "        # Pass the output of the last time step to the classifier\n",
        "        out = self.fc(out[:, -1, :])\n",
        "        return out\n",
        "\n",
        "# Initialize the GRU model and create dummy data\n",
        "gru_model = SimpleGRU(input_size, hidden_size, output_size)\n",
        "gru_input_data = torch.randn(batch_size, seq_length, input_size)\n",
        "\n",
        "# Forward pass through GRU\n",
        "gru_output = gru_model(gru_input_data)\n",
        "\n",
        "print(\"\\nGRU Input shape:\", gru_input_data.shape)\n",
        "print(\"GRU Output shape:\", gru_output.shape)"
      ],
      "metadata": {
        "colab": {
          "base_uri": "https://localhost:8080/"
        },
        "id": "O0X6N9dUOpLw",
        "outputId": "b40319be-c1f2-4ddc-d49e-74c6641cb9ca"
      },
      "execution_count": 13,
      "outputs": [
        {
          "output_type": "stream",
          "name": "stdout",
          "text": [
            "LSTM Input shape: torch.Size([5, 30, 10])\n",
            "LSTM Output shape: torch.Size([5, 2])\n",
            "\n",
            "GRU Input shape: torch.Size([5, 30, 10])\n",
            "GRU Output shape: torch.Size([5, 2])\n"
          ]
        }
      ]
    },
    {
      "cell_type": "markdown",
      "source": [],
      "metadata": {
        "id": "CR3UVaUVOX7c"
      }
    }
  ]
}